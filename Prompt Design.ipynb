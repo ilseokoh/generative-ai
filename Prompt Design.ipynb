{
 "cells": [
  {
   "cell_type": "code",
   "execution_count": 1,
   "id": "83ffa997-d1d0-42d4-bba8-c9aa880c7903",
   "metadata": {},
   "outputs": [
    {
     "name": "stdout",
     "output_type": "stream",
     "text": [
      "Requirement already satisfied: shapely<2.0.0 in /opt/conda/lib/python3.7/site-packages (1.8.5.post1)\n",
      "Requirement already satisfied: google-cloud-aiplatform in ./.local/lib/python3.7/site-packages (1.32.0)\n",
      "Requirement already satisfied: google-api-core[grpc]!=2.0.*,!=2.1.*,!=2.2.*,!=2.3.*,!=2.4.*,!=2.5.*,!=2.6.*,!=2.7.*,<3.0.0dev,>=1.32.0 in /opt/conda/lib/python3.7/site-packages (from google-cloud-aiplatform) (1.34.0)\n",
      "Requirement already satisfied: proto-plus<2.0.0dev,>=1.22.0 in /opt/conda/lib/python3.7/site-packages (from google-cloud-aiplatform) (1.22.2)\n",
      "Requirement already satisfied: protobuf!=3.20.0,!=3.20.1,!=4.21.0,!=4.21.1,!=4.21.2,!=4.21.3,!=4.21.4,!=4.21.5,<5.0.0dev,>=3.19.5 in /opt/conda/lib/python3.7/site-packages (from google-cloud-aiplatform) (3.20.3)\n",
      "Requirement already satisfied: packaging>=14.3 in /opt/conda/lib/python3.7/site-packages (from google-cloud-aiplatform) (23.1)\n",
      "Requirement already satisfied: google-cloud-storage<3.0.0dev,>=1.32.0 in /opt/conda/lib/python3.7/site-packages (from google-cloud-aiplatform) (2.9.0)\n",
      "Requirement already satisfied: google-cloud-bigquery<4.0.0dev,>=1.15.0 in ./.local/lib/python3.7/site-packages (from google-cloud-aiplatform) (3.11.4)\n",
      "Requirement already satisfied: google-cloud-resource-manager<3.0.0dev,>=1.3.3 in /opt/conda/lib/python3.7/site-packages (from google-cloud-aiplatform) (1.10.1)\n",
      "Requirement already satisfied: shapely<2.0.0 in /opt/conda/lib/python3.7/site-packages (from google-cloud-aiplatform) (1.8.5.post1)\n",
      "Requirement already satisfied: googleapis-common-protos<2.0dev,>=1.56.2 in /opt/conda/lib/python3.7/site-packages (from google-api-core[grpc]!=2.0.*,!=2.1.*,!=2.2.*,!=2.3.*,!=2.4.*,!=2.5.*,!=2.6.*,!=2.7.*,<3.0.0dev,>=1.32.0->google-cloud-aiplatform) (1.59.0)\n",
      "Requirement already satisfied: google-auth<3.0dev,>=1.25.0 in /opt/conda/lib/python3.7/site-packages (from google-api-core[grpc]!=2.0.*,!=2.1.*,!=2.2.*,!=2.3.*,!=2.4.*,!=2.5.*,!=2.6.*,!=2.7.*,<3.0.0dev,>=1.32.0->google-cloud-aiplatform) (2.19.1)\n",
      "Requirement already satisfied: requests<3.0.0dev,>=2.18.0 in /opt/conda/lib/python3.7/site-packages (from google-api-core[grpc]!=2.0.*,!=2.1.*,!=2.2.*,!=2.3.*,!=2.4.*,!=2.5.*,!=2.6.*,!=2.7.*,<3.0.0dev,>=1.32.0->google-cloud-aiplatform) (2.31.0)\n",
      "Requirement already satisfied: grpcio<2.0dev,>=1.33.2 in /opt/conda/lib/python3.7/site-packages (from google-api-core[grpc]!=2.0.*,!=2.1.*,!=2.2.*,!=2.3.*,!=2.4.*,!=2.5.*,!=2.6.*,!=2.7.*,<3.0.0dev,>=1.32.0->google-cloud-aiplatform) (1.51.3)\n",
      "Requirement already satisfied: grpcio-status<2.0dev,>=1.33.2 in /opt/conda/lib/python3.7/site-packages (from google-api-core[grpc]!=2.0.*,!=2.1.*,!=2.2.*,!=2.3.*,!=2.4.*,!=2.5.*,!=2.6.*,!=2.7.*,<3.0.0dev,>=1.32.0->google-cloud-aiplatform) (1.48.2)\n",
      "Requirement already satisfied: google-cloud-core<3.0.0dev,>=1.6.0 in /opt/conda/lib/python3.7/site-packages (from google-cloud-bigquery<4.0.0dev,>=1.15.0->google-cloud-aiplatform) (2.3.2)\n",
      "Requirement already satisfied: google-resumable-media<3.0dev,>=0.6.0 in /opt/conda/lib/python3.7/site-packages (from google-cloud-bigquery<4.0.0dev,>=1.15.0->google-cloud-aiplatform) (2.5.0)\n",
      "Requirement already satisfied: python-dateutil<3.0dev,>=2.7.2 in /opt/conda/lib/python3.7/site-packages (from google-cloud-bigquery<4.0.0dev,>=1.15.0->google-cloud-aiplatform) (2.8.2)\n",
      "Requirement already satisfied: grpc-google-iam-v1<1.0.0dev,>=0.12.4 in /opt/conda/lib/python3.7/site-packages (from google-cloud-resource-manager<3.0.0dev,>=1.3.3->google-cloud-aiplatform) (0.12.6)\n",
      "Requirement already satisfied: cachetools<6.0,>=2.0.0 in /opt/conda/lib/python3.7/site-packages (from google-auth<3.0dev,>=1.25.0->google-api-core[grpc]!=2.0.*,!=2.1.*,!=2.2.*,!=2.3.*,!=2.4.*,!=2.5.*,!=2.6.*,!=2.7.*,<3.0.0dev,>=1.32.0->google-cloud-aiplatform) (5.3.1)\n",
      "Requirement already satisfied: pyasn1-modules>=0.2.1 in /opt/conda/lib/python3.7/site-packages (from google-auth<3.0dev,>=1.25.0->google-api-core[grpc]!=2.0.*,!=2.1.*,!=2.2.*,!=2.3.*,!=2.4.*,!=2.5.*,!=2.6.*,!=2.7.*,<3.0.0dev,>=1.32.0->google-cloud-aiplatform) (0.3.0)\n",
      "Requirement already satisfied: rsa<5,>=3.1.4 in /opt/conda/lib/python3.7/site-packages (from google-auth<3.0dev,>=1.25.0->google-api-core[grpc]!=2.0.*,!=2.1.*,!=2.2.*,!=2.3.*,!=2.4.*,!=2.5.*,!=2.6.*,!=2.7.*,<3.0.0dev,>=1.32.0->google-cloud-aiplatform) (4.9)\n",
      "Requirement already satisfied: six>=1.9.0 in /opt/conda/lib/python3.7/site-packages (from google-auth<3.0dev,>=1.25.0->google-api-core[grpc]!=2.0.*,!=2.1.*,!=2.2.*,!=2.3.*,!=2.4.*,!=2.5.*,!=2.6.*,!=2.7.*,<3.0.0dev,>=1.32.0->google-cloud-aiplatform) (1.16.0)\n",
      "Requirement already satisfied: urllib3<2.0 in /opt/conda/lib/python3.7/site-packages (from google-auth<3.0dev,>=1.25.0->google-api-core[grpc]!=2.0.*,!=2.1.*,!=2.2.*,!=2.3.*,!=2.4.*,!=2.5.*,!=2.6.*,!=2.7.*,<3.0.0dev,>=1.32.0->google-cloud-aiplatform) (1.26.16)\n",
      "Requirement already satisfied: google-crc32c<2.0dev,>=1.0 in /opt/conda/lib/python3.7/site-packages (from google-resumable-media<3.0dev,>=0.6.0->google-cloud-bigquery<4.0.0dev,>=1.15.0->google-cloud-aiplatform) (1.5.0)\n",
      "Requirement already satisfied: charset-normalizer<4,>=2 in /opt/conda/lib/python3.7/site-packages (from requests<3.0.0dev,>=2.18.0->google-api-core[grpc]!=2.0.*,!=2.1.*,!=2.2.*,!=2.3.*,!=2.4.*,!=2.5.*,!=2.6.*,!=2.7.*,<3.0.0dev,>=1.32.0->google-cloud-aiplatform) (3.1.0)\n",
      "Requirement already satisfied: idna<4,>=2.5 in /opt/conda/lib/python3.7/site-packages (from requests<3.0.0dev,>=2.18.0->google-api-core[grpc]!=2.0.*,!=2.1.*,!=2.2.*,!=2.3.*,!=2.4.*,!=2.5.*,!=2.6.*,!=2.7.*,<3.0.0dev,>=1.32.0->google-cloud-aiplatform) (3.4)\n",
      "Requirement already satisfied: certifi>=2017.4.17 in /opt/conda/lib/python3.7/site-packages (from requests<3.0.0dev,>=2.18.0->google-api-core[grpc]!=2.0.*,!=2.1.*,!=2.2.*,!=2.3.*,!=2.4.*,!=2.5.*,!=2.6.*,!=2.7.*,<3.0.0dev,>=1.32.0->google-cloud-aiplatform) (2023.5.7)\n",
      "Requirement already satisfied: pyasn1<0.6.0,>=0.4.6 in /opt/conda/lib/python3.7/site-packages (from pyasn1-modules>=0.2.1->google-auth<3.0dev,>=1.25.0->google-api-core[grpc]!=2.0.*,!=2.1.*,!=2.2.*,!=2.3.*,!=2.4.*,!=2.5.*,!=2.6.*,!=2.7.*,<3.0.0dev,>=1.32.0->google-cloud-aiplatform) (0.5.0)\n"
     ]
    }
   ],
   "source": [
    "!pip install \"shapely<2.0.0\"\n",
    "!pip install google-cloud-aiplatform --upgrade --user"
   ]
  },
  {
   "cell_type": "code",
   "execution_count": 5,
   "id": "fbdfa1d2-5a12-4da5-809e-20bfdab176b3",
   "metadata": {},
   "outputs": [],
   "source": [
    "from vertexai.language_models import TextGenerationModel\n",
    "\n",
    "generation_model = TextGenerationModel.from_pretrained(\"text-bison@001\")"
   ]
  },
  {
   "cell_type": "code",
   "execution_count": 6,
   "id": "ae191744-a421-4695-9fc6-e5db01271ad6",
   "metadata": {},
   "outputs": [],
   "source": [
    "from IPython.display import Markdown, display"
   ]
  },
  {
   "cell_type": "markdown",
   "id": "ddbce210-2edf-4a72-b10a-4227f23871f5",
   "metadata": {},
   "source": [
    "### 주저리주저리 말이 많네"
   ]
  },
  {
   "cell_type": "code",
   "execution_count": 10,
   "id": "e2a17228-51f6-4869-b1ac-82020ccccc8f",
   "metadata": {},
   "outputs": [
    {
     "data": {
      "text/markdown": [
       "* **말린 꽃**\n",
       "* **꽃의 향기**\n",
       "* **꽃의 시간**\n",
       "* **꽃의 추억**\n",
       "* **꽃의 이야기**\n",
       "* **꽃의 향연**\n",
       "* **꽃의 향기**\n",
       "* **꽃의 나라**\n",
       "* **꽃의 천국**\n",
       "* **꽃의 왕국**\n",
       "* **꽃의 제국**\n",
       "* **꽃의 궁전**\n",
       "* **꽃의 성**\n",
       "* **꽃의 마을**\n",
       "* **꽃의 마법**\n",
       "* **꽃의 요정**\n",
       "* **꽃의 천사**\n",
       "* **꽃의 여왕**\n",
       "* **꽃의 왕**\n",
       "* **꽃의 신**\n",
       "* **꽃의 여신**\n",
       "* **꽃의 정령**\n",
       "* **꽃의 요정**\n",
       "* **꽃의 마법사**\n",
       "* **꽃의 마녀**\n",
       "* **꽃의 요술사**\n",
       "* **꽃의 마술사**\n",
       "* **꽃의 마법사**\n",
       "* **꽃의 마녀**\n",
       "* **꽃의 요술사**\n",
       "* **꽃의 마술사**\n",
       "* **꽃의 마법사"
      ],
      "text/plain": [
       "<IPython.core.display.Markdown object>"
      ]
     },
     "metadata": {},
     "output_type": "display_data"
    }
   ],
   "source": [
    "prompt1 = \"내가 가게를 차리는데 꽃집이야. 생화를 팔기 보다는 말린꽃을 팔기로 했어. 왜냐면 요즘 유행하기도 하고 유통하기도 편하고. 꽃집 이름을 뭘로하면 좋을까? 한글 이름은 어떨까?\"\n",
    "display(Markdown(generation_model.predict(prompt=prompt1, max_output_tokens=256).text))"
   ]
  },
  {
   "cell_type": "markdown",
   "id": "9f79e3f0-452b-48cb-b4d8-d91b1610ce2e",
   "metadata": {},
   "source": [
    "### 정확하게 prompt 를 작성 "
   ]
  },
  {
   "cell_type": "code",
   "execution_count": 15,
   "id": "96760281-a4d9-4e1d-9a42-6e4921278c74",
   "metadata": {},
   "outputs": [
    {
     "data": {
      "text/markdown": [
       "1. 꽃말\n",
       "2. 꽃집\n",
       "3. 꽃향기\n",
       "4. 꽃이야기\n",
       "5. 꽃마을\n",
       "6. 꽃나라\n",
       "7. 꽃천국\n",
       "8. 꽃동산\n",
       "9. 꽃마당\n",
       "10. 꽃길"
      ],
      "text/plain": [
       "<IPython.core.display.Markdown object>"
      ]
     },
     "metadata": {},
     "output_type": "display_data"
    }
   ],
   "source": [
    "prompt2 = \"말린꽃을 파는 상점의 한글 상점이름을 만들어줘\"\n",
    "display(Markdown(generation_model.predict(prompt=prompt2, max_output_tokens=256).text))"
   ]
  },
  {
   "cell_type": "markdown",
   "id": "721ff8b5-d502-4349-96fe-47d30331fc99",
   "metadata": {},
   "source": [
    "### 너무 일반적인 prompt 는 별로"
   ]
  },
  {
   "cell_type": "code",
   "execution_count": 17,
   "id": "49ab66c2-5c6f-43fe-9675-2d5fdce33c20",
   "metadata": {},
   "outputs": [
    {
     "data": {
      "text/markdown": [
       "지구는 태양계에서 세 번째 행성입니다. 지구는 태양에서 약 1억 4,960만 킬로미터 떨어져 있습니다. 지구는 태양계에서 가장 큰 행성인 목성의 약 1/10 크기입니다. 지구는 태양계에서 유일하게 생명체가 존재하는 행성입니다.\n",
       "\n",
       "지구의 표면은 약 71%가 물로 덮여 있습니다. 지구의 물은 바다, 호수, 강, 빙하 등 다양한 형태로 존재합니다. 지구의 대기는 주로 질소와 산소로 구성되어 있습니다. 지구의 대기는 지구의 표면을 보호하고 기온을 조절하는 역할을 합니다.\n",
       "\n",
       "지구에는 약 70억 명의 사람들이 살고 있습니다. 지구의 사람들은 다양한 언어를 사용하고 다양한 문화를 가지고 있습니다. 지구의 사람들은 서로 다른 종교를 믿고 서로 다른 가치관을 가지고 있습니다. 하지만 지구의 사람들은 모두 하나의 지구에서 살고 있다는 공통점을 가지고 있습니다.\n",
       "\n",
       "지구는 우리가 살고 있는 행성입니다. 지구는 우리에게"
      ],
      "text/plain": [
       "<IPython.core.display.Markdown object>"
      ]
     },
     "metadata": {},
     "output_type": "display_data"
    }
   ],
   "source": [
    "prompt3 = \"지구에 대해서 얘기해봐.\"\n",
    "display(Markdown(generation_model.predict(prompt=prompt3, max_output_tokens=256).text))"
   ]
  },
  {
   "cell_type": "markdown",
   "id": "9eaf0fb9-2f94-42f5-935b-91c6360eeff2",
   "metadata": {},
   "source": [
    "### 구체적으로 prompt 만들것"
   ]
  },
  {
   "cell_type": "code",
   "execution_count": 18,
   "id": "c72001e5-50ba-4a8c-bb36-7a9ab83e4b58",
   "metadata": {},
   "outputs": [
    {
     "data": {
      "text/markdown": [
       "1. 지구는 태양계에서 유일하게 생명체가 존재하는 행성입니다.\n",
       "2. 지구는 태양계에서 유일하게 액체 상태의 물이 존재하는 행성입니다.\n",
       "3. 지구는 태양계에서 유일하게 대기가 존재하는 행성입니다.\n",
       "4. 지구는 태양계에서 유일하게 자기장이 존재하는 행성입니다.\n",
       "5. 지구는 태양계에서 유일하게 달이 존재하는 행성입니다."
      ],
      "text/plain": [
       "<IPython.core.display.Markdown object>"
      ]
     },
     "metadata": {},
     "output_type": "display_data"
    }
   ],
   "source": [
    "prompt4 = \"지구가 다른 행성과 다른점에 대해서 5가지 리스트를 만들어줘.\"\n",
    "display(Markdown(generation_model.predict(prompt=prompt4, max_output_tokens=256).text))"
   ]
  },
  {
   "cell_type": "markdown",
   "id": "dc8f9d47-0733-463e-8b6c-806022364f6b",
   "metadata": {},
   "source": [
    "### 한번에 하나의 테스크만"
   ]
  },
  {
   "cell_type": "code",
   "execution_count": 19,
   "id": "2c35b8d7-42c0-46d3-8aac-a76518c353b2",
   "metadata": {},
   "outputs": [
    {
     "data": {
      "text/markdown": [
       "높은 산에서 물을 끓이는 방법은 다음과 같습니다.\n",
       "\n",
       "1. 냄비에 물을 넣고 불을 붙인다.\n",
       "2. 물이 끓기 시작하면 냄비를 불에서 내려 식힌다.\n",
       "3. 냄비에 물을 다시 넣고 불을 붙인다.\n",
       "4. 물이 끓기 시작하면 냄비를 불에서 내려 식힌다.\n",
       "5. 이 과정을 3~4회 반복한다.\n",
       "6. 물이 충분히 끓으면 냄비를 불에서 내려 식힌다.\n",
       "7. 물을 마신다.\n",
       "\n",
       "하늘이 파란 이유는 대기 중에 산란하는 빛의 파장 때문입니다. 태양에서 오는 빛은 여러 가지 파장의 빛이 섞여 있는데, 이 중 파장이 짧은 빛은 산란이 잘 되고 파장이 긴 빛은 산란이 잘 되지 않습니다. 파장이 짧은 빛은 보라색, 파란색, 녹색, 노란색, 주황색, 빨간색 순으로 되어 있는데, 파장이 가장 짧은 보라색 "
      ],
      "text/plain": [
       "<IPython.core.display.Markdown object>"
      ]
     },
     "metadata": {},
     "output_type": "display_data"
    }
   ],
   "source": [
    "prompt5 = \"높은 산에서 물을 끓이는 방법과 하늘은 왜 파란지 알려줘?\"\n",
    "display(Markdown(generation_model.predict(prompt=prompt5, max_output_tokens=256).text))"
   ]
  },
  {
   "cell_type": "code",
   "execution_count": 21,
   "id": "f10b0b61-feac-4bcc-a313-20737fa0adcd",
   "metadata": {},
   "outputs": [
    {
     "data": {
      "text/markdown": [
       "1. 냄비에 물을 넣는다.\n",
       "2. 냄비를 불 위에 올려놓는다.\n",
       "3. 물이 끓기 시작하면 불을 줄인다.\n",
       "4. 물이 끓는 동안 냄비를 흔들어주면 물이 더 빨리 끓는다.\n",
       "5. 물이 충분히 끓으면 불을 끄고 냄비에서 물을 덜어낸다.\n",
       "6. 물을 마신다.\n",
       "\n",
       "주의:\n",
       "- 높은 산에서는 공기가 희박해서 물이 끓는 온도가 낮아진다. 따라서 물을 끓일 때는 물이 충분히 끓는 지 확인해야 한다.\n",
       "- 물을 끓일 때는 냄비를 흔들어주면 물이 더 빨리 끓는다.\n",
       "- 물을 마실 때는 뜨거우니 조심해야 한다."
      ],
      "text/plain": [
       "<IPython.core.display.Markdown object>"
      ]
     },
     "metadata": {},
     "output_type": "display_data"
    }
   ],
   "source": [
    "prompt6 = \"높은 산에서 물을 끓이는 방법을 알려줘.\"\n",
    "display(Markdown(generation_model.predict(prompt=prompt6, max_output_tokens=256).text))"
   ]
  },
  {
   "cell_type": "markdown",
   "id": "1fb1cb58-f957-446d-9fc8-3a7b15834f3e",
   "metadata": {},
   "source": [
    "### hallucinations을 주의"
   ]
  },
  {
   "cell_type": "code",
   "execution_count": 22,
   "id": "75f6ea0f-9e17-439b-8c1b-873c838256f3",
   "metadata": {},
   "outputs": [
    {
     "data": {
      "text/markdown": [
       "달에 간 최초의 코끼리는 '스누피'입니다. 스누피는 1969년 7월 20일 아폴로 11호에 탑승하여 달에 착륙했습니다. 스누피는 아폴로 11호의 마스코트였으며, 아폴로 11호의 승무원들은 스누피를 달에 남겨두고 돌아왔습니다. 스누피는 달에 남겨진 최초의 생명체가 되었습니다."
      ],
      "text/plain": [
       "<IPython.core.display.Markdown object>"
      ]
     },
     "metadata": {},
     "output_type": "display_data"
    }
   ],
   "source": [
    "prompt7 = \"달에 간 최초의 코끼리는?\"\n",
    "display(Markdown(generation_model.predict(prompt=prompt7, max_output_tokens=256).text))"
   ]
  },
  {
   "cell_type": "code",
   "execution_count": 23,
   "id": "576528c3-9e5a-4c8a-93b9-e7e0b02f97db",
   "metadata": {},
   "outputs": [
    {
     "data": {
      "text/markdown": [
       "* **프로그래밍 언어를 배우세요.** 프로그래밍 언어를 배우는 것은 프로그래밍 기술을 향상시키는 가장 좋은 방법 중 하나입니다. 프로그래밍 언어를 배우면 프로그래밍의 기본 개념을 이해하고 코드를 작성하는 방법을 배울 수 있습니다. 프로그래밍 언어를 배우는 데는 많은 방법이 있습니다. 온라인 강좌, 책, 코딩 캠프 등을 통해 프로그래밍 언어를 배울 수 있습니다.\n",
       "* **프로그래밍 프로젝트를 해보세요.** 프로그래밍 프로젝트를 해보는 것은 프로그래밍 기술을 향상시키는 좋은 방법입니다. 프로그래밍 프로젝트를 통해 프로그래밍 언어를 실습하고 새로운 기술을 배울 수 있습니다. 프로그래밍 프로젝트를 할 때는 자신의 관심사에 맞는 프로젝트를 선택하는 것이 좋습니다.\n",
       "* **프로그래밍 커뮤니티에 참여하세요.** 프로그래밍 커뮤니티에 참여하는 것은 프로그래밍 기술을 향상시키는 좋은 방법입니다. 프로그래밍 커뮤니티에서는 다른 프로그래머들과 의견을 나누고 질문을 하고 도움을 받을 수 있습니다. 프로그래밍 커뮤"
      ],
      "text/plain": [
       "<IPython.core.display.Markdown object>"
      ]
     },
     "metadata": {},
     "output_type": "display_data"
    }
   ],
   "source": [
    "prompt8 = \"나는 고등학생인데 프로그래밍 기술을 향상시킬 수 있는 방법을 추천해줘\"\n",
    "display(Markdown(generation_model.predict(prompt=prompt8, max_output_tokens=256).text))"
   ]
  },
  {
   "cell_type": "code",
   "execution_count": 25,
   "id": "5dee2cc4-b752-4e22-863c-668f6511689f",
   "metadata": {},
   "outputs": [
    {
     "data": {
      "text/markdown": [
       "고등학생이라면 파이썬을 배우는 것을 추천합니다. 파이썬은 배우기 쉽고 다양한 분야에서 사용되기 때문에 취업에도 도움이 됩니다. 또한 파이썬은 인공지능, 머신러닝, 데이터 분석 등과 같은 최신 기술을 배우는 데에도 유용합니다."
      ],
      "text/plain": [
       "<IPython.core.display.Markdown object>"
      ]
     },
     "metadata": {},
     "output_type": "display_data"
    }
   ],
   "source": [
    "prompt9 = \"\"\"\n",
    "나는 고등학생인데 아래 활동중에 하나를 추천해주고 그 이유를 알려줘. \n",
    "1) 파이썬 배우기 \n",
    "2) 자바스크립트 배우기 \n",
    "3) 포트란 배우기 \n",
    "\"\"\"\n",
    "display(Markdown(generation_model.predict(prompt=prompt9, max_output_tokens=256).text))"
   ]
  },
  {
   "cell_type": "markdown",
   "id": "7adfd111-4b9e-467a-8230-d0ddd8acb9bf",
   "metadata": {},
   "source": [
    "## Evaluation"
   ]
  },
  {
   "cell_type": "code",
   "execution_count": 2,
   "id": "35f06062-fa41-49c6-98a8-29ab3957c18a",
   "metadata": {},
   "outputs": [
    {
     "data": {
      "text/html": [
       "<div>\n",
       "<style scoped>\n",
       "    .dataframe tbody tr th:only-of-type {\n",
       "        vertical-align: middle;\n",
       "    }\n",
       "\n",
       "    .dataframe tbody tr th {\n",
       "        vertical-align: top;\n",
       "    }\n",
       "\n",
       "    .dataframe thead th {\n",
       "        text-align: right;\n",
       "    }\n",
       "</style>\n",
       "<table border=\"1\" class=\"dataframe\">\n",
       "  <thead>\n",
       "    <tr style=\"text-align: right;\">\n",
       "      <th></th>\n",
       "      <th>question</th>\n",
       "      <th>answer_groundtruth</th>\n",
       "    </tr>\n",
       "  </thead>\n",
       "  <tbody>\n",
       "    <tr>\n",
       "      <th>0</th>\n",
       "      <td>웹브라우저에서 www의 의미는??</td>\n",
       "      <td>World Wide Web</td>\n",
       "    </tr>\n",
       "    <tr>\n",
       "      <th>1</th>\n",
       "      <td>노벨상을 수상한 첫번째 여성은?</td>\n",
       "      <td>퀴리부인</td>\n",
       "    </tr>\n",
       "    <tr>\n",
       "      <th>2</th>\n",
       "      <td>지구에서 가장 큰 바다는?</td>\n",
       "      <td>태펴양</td>\n",
       "    </tr>\n",
       "  </tbody>\n",
       "</table>\n",
       "</div>"
      ],
      "text/plain": [
       "             question answer_groundtruth\n",
       "0  웹브라우저에서 www의 의미는??     World Wide Web\n",
       "1   노벨상을 수상한 첫번째 여성은?               퀴리부인\n",
       "2      지구에서 가장 큰 바다는?                태펴양"
      ]
     },
     "execution_count": 2,
     "metadata": {},
     "output_type": "execute_result"
    }
   ],
   "source": [
    "import pandas as pd\n",
    "qa_data = {\n",
    "    \"question\": [\n",
    "        \"웹브라우저에서 www의 의미는??\",\n",
    "        \"노벨상을 수상한 첫번째 여성은?\",\n",
    "        \"지구에서 가장 큰 바다는?\",\n",
    "    ],\n",
    "    \"answer_groundtruth\": [\"World Wide Web\", \"퀴리부인\", \"태펴양\"],\n",
    "}\n",
    "qa_data_df = pd.DataFrame(qa_data)\n",
    "qa_data_df"
   ]
  },
  {
   "cell_type": "code",
   "execution_count": 7,
   "id": "9f92dec1-6e68-44d4-bb6d-1d98c3390ff6",
   "metadata": {},
   "outputs": [
    {
     "data": {
      "text/html": [
       "<div>\n",
       "<style scoped>\n",
       "    .dataframe tbody tr th:only-of-type {\n",
       "        vertical-align: middle;\n",
       "    }\n",
       "\n",
       "    .dataframe tbody tr th {\n",
       "        vertical-align: top;\n",
       "    }\n",
       "\n",
       "    .dataframe thead th {\n",
       "        text-align: right;\n",
       "    }\n",
       "</style>\n",
       "<table border=\"1\" class=\"dataframe\">\n",
       "  <thead>\n",
       "    <tr style=\"text-align: right;\">\n",
       "      <th></th>\n",
       "      <th>question</th>\n",
       "      <th>answer_groundtruth</th>\n",
       "      <th>answer_prediction</th>\n",
       "    </tr>\n",
       "  </thead>\n",
       "  <tbody>\n",
       "    <tr>\n",
       "      <th>0</th>\n",
       "      <td>웹브라우저에서 www의 의미는??</td>\n",
       "      <td>World Wide Web</td>\n",
       "      <td>World Wide Web</td>\n",
       "    </tr>\n",
       "    <tr>\n",
       "      <th>1</th>\n",
       "      <td>노벨상을 수상한 첫번째 여성은?</td>\n",
       "      <td>퀴리부인</td>\n",
       "      <td>마리 퀴리</td>\n",
       "    </tr>\n",
       "    <tr>\n",
       "      <th>2</th>\n",
       "      <td>지구에서 가장 큰 바다는?</td>\n",
       "      <td>태펴양</td>\n",
       "      <td>태평양</td>\n",
       "    </tr>\n",
       "  </tbody>\n",
       "</table>\n",
       "</div>"
      ],
      "text/plain": [
       "             question answer_groundtruth answer_prediction\n",
       "0  웹브라우저에서 www의 의미는??     World Wide Web    World Wide Web\n",
       "1   노벨상을 수상한 첫번째 여성은?               퀴리부인             마리 퀴리\n",
       "2      지구에서 가장 큰 바다는?                태펴양               태평양"
      ]
     },
     "execution_count": 7,
     "metadata": {},
     "output_type": "execute_result"
    }
   ],
   "source": [
    "def get_answer(row):\n",
    "    prompt = f\"\"\"아래 질문에 최대한 정확하게 답해주세요.\\n\"\n",
    "                질문: {row}\n",
    "                답:\n",
    "    \"\"\"\n",
    "    return generation_model.predict(prompt=prompt).text\n",
    "\n",
    "qa_data_df[\"answer_prediction\"] = qa_data_df[\"question\"].apply(get_answer)\n",
    "qa_data_df"
   ]
  },
  {
   "cell_type": "code",
   "execution_count": 10,
   "id": "8c1e1f04-c3d8-415c-9220-c2623cc9220c",
   "metadata": {},
   "outputs": [],
   "source": [
    "!pip install -q python-Levenshtein --upgrade --user\n",
    "!pip install -q fuzzywuzzy --upgrade --user"
   ]
  },
  {
   "cell_type": "code",
   "execution_count": 11,
   "id": "7209d434-25b5-46e5-9376-2389bcc4b73a",
   "metadata": {},
   "outputs": [
    {
     "data": {
      "text/html": [
       "<div>\n",
       "<style scoped>\n",
       "    .dataframe tbody tr th:only-of-type {\n",
       "        vertical-align: middle;\n",
       "    }\n",
       "\n",
       "    .dataframe tbody tr th {\n",
       "        vertical-align: top;\n",
       "    }\n",
       "\n",
       "    .dataframe thead th {\n",
       "        text-align: right;\n",
       "    }\n",
       "</style>\n",
       "<table border=\"1\" class=\"dataframe\">\n",
       "  <thead>\n",
       "    <tr style=\"text-align: right;\">\n",
       "      <th></th>\n",
       "      <th>question</th>\n",
       "      <th>answer_groundtruth</th>\n",
       "      <th>answer_prediction</th>\n",
       "      <th>match_score</th>\n",
       "    </tr>\n",
       "  </thead>\n",
       "  <tbody>\n",
       "    <tr>\n",
       "      <th>0</th>\n",
       "      <td>웹브라우저에서 www의 의미는??</td>\n",
       "      <td>World Wide Web</td>\n",
       "      <td>World Wide Web</td>\n",
       "      <td>100</td>\n",
       "    </tr>\n",
       "    <tr>\n",
       "      <th>1</th>\n",
       "      <td>노벨상을 수상한 첫번째 여성은?</td>\n",
       "      <td>퀴리부인</td>\n",
       "      <td>마리 퀴리</td>\n",
       "      <td>50</td>\n",
       "    </tr>\n",
       "    <tr>\n",
       "      <th>2</th>\n",
       "      <td>지구에서 가장 큰 바다는?</td>\n",
       "      <td>태펴양</td>\n",
       "      <td>태평양</td>\n",
       "      <td>67</td>\n",
       "    </tr>\n",
       "  </tbody>\n",
       "</table>\n",
       "</div>"
      ],
      "text/plain": [
       "             question answer_groundtruth answer_prediction  match_score\n",
       "0  웹브라우저에서 www의 의미는??     World Wide Web    World Wide Web          100\n",
       "1   노벨상을 수상한 첫번째 여성은?               퀴리부인             마리 퀴리           50\n",
       "2      지구에서 가장 큰 바다는?                태펴양               태평양           67"
      ]
     },
     "execution_count": 11,
     "metadata": {},
     "output_type": "execute_result"
    }
   ],
   "source": [
    "from fuzzywuzzy import fuzz\n",
    "\n",
    "\n",
    "def get_fuzzy_match(df):\n",
    "    return fuzz.partial_ratio(df[\"answer_groundtruth\"], df[\"answer_prediction\"])\n",
    "\n",
    "\n",
    "qa_data_df[\"match_score\"] = qa_data_df.apply(get_fuzzy_match, axis=1)\n",
    "qa_data_df"
   ]
  },
  {
   "cell_type": "code",
   "execution_count": 12,
   "id": "e099ef0a-1374-4219-a58c-732fcdd06b89",
   "metadata": {},
   "outputs": [
    {
     "name": "stdout",
     "output_type": "stream",
     "text": [
      "평균 매칭 점수 :  72.33333333333333  %\n"
     ]
    }
   ],
   "source": [
    "print(\n",
    "    \"평균 매칭 점수 : \",\n",
    "    qa_data_df[\"match_score\"].mean(),\n",
    "    \" %\",\n",
    ")"
   ]
  },
  {
   "cell_type": "markdown",
   "id": "34632766-95bd-4bc7-9cac-c4064ad80d80",
   "metadata": {},
   "source": [
    "## Classfication"
   ]
  },
  {
   "cell_type": "code",
   "execution_count": 14,
   "id": "2d317bf4-bf73-4027-8181-d3909fac5136",
   "metadata": {},
   "outputs": [
    {
     "name": "stdout",
     "output_type": "stream",
     "text": [
      "정치\n"
     ]
    }
   ],
   "source": [
    "prompt10 = \"\"\"\n",
    "스포츠, 정치, 엔터테인먼트 등 미리 정의된 여러 주제 중 하나로 텍스트를 분류합니다.\n",
    "텍스트: 바이든 대통령은 몇 가지 기회를 논의하기 위해 3월에 인도를 방문할 예정입니다.\n",
    "class:\n",
    "\"\"\"\n",
    "\n",
    "response = generation_model.predict(prompt=prompt10, max_output_tokens=256, temperature=0.1).text\n",
    "print(response)"
   ]
  },
  {
   "cell_type": "markdown",
   "id": "af5049e5-6f24-4e29-9f94-cdb504bd6cc2",
   "metadata": {},
   "source": [
    "## 스팸 분류"
   ]
  },
  {
   "cell_type": "code",
   "execution_count": 15,
   "id": "1580545f-6b03-4d34-a5ef-72b4392d04de",
   "metadata": {},
   "outputs": [
    {
     "name": "stdout",
     "output_type": "stream",
     "text": [
      "스팸\n"
     ]
    }
   ],
   "source": [
    "prompt11 = \"\"\"\n",
    "아래 이메일 본문을 보고 스팸인지 스팸이 아닌지 분류해주세요.\n",
    "이메일 본문: 안녕하세요. \\n 인천 최대의 상가를 분양하고 있습니다. 10년에 한번오는 돈버는 기회를 놓치지 마세요. \n",
    "\"\"\"\n",
    "response = generation_model.predict(prompt=prompt11, max_output_tokens=256, temperature=0.1).text\n",
    "print(response)"
   ]
  },
  {
   "cell_type": "markdown",
   "id": "92901cdc-fcc5-4baf-9d40-2098dfd688d0",
   "metadata": {},
   "source": [
    "## Intent"
   ]
  },
  {
   "cell_type": "code",
   "execution_count": 17,
   "id": "48393e66-ddbf-4b53-abbc-80ace2381f59",
   "metadata": {},
   "outputs": [
    {
     "name": "stdout",
     "output_type": "stream",
     "text": [
      "예약하기\n"
     ]
    }
   ],
   "source": [
    "prompt12 = \"\"\"\n",
    "사용자 입력을 보고 의도가 무엇인지 파악해줘. 예를들어 \"정보문의\", \"예약하기\", \"예약확인\" \n",
    "사용자 입력: 안녕하세요. 5월 1일에 3명 예약 가능할까요? \n",
    "\"\"\"\n",
    "response = generation_model.predict(prompt=prompt12, max_output_tokens=256, temperature=0.1).text\n",
    "print(response)"
   ]
  },
  {
   "cell_type": "markdown",
   "id": "bbb67a83-158e-4101-b62c-06b79b1b720d",
   "metadata": {},
   "source": [
    "## 언어 감지 \n",
    "## 감정 인지 "
   ]
  },
  {
   "cell_type": "markdown",
   "id": "15a6b3fe-49a7-4209-8db7-9738694829ee",
   "metadata": {},
   "source": [
    "# Text Extraction"
   ]
  },
  {
   "cell_type": "code",
   "execution_count": 26,
   "id": "7acbe72d-a245-4a95-981f-2fbdc470cb14",
   "metadata": {},
   "outputs": [],
   "source": [
    "prompt13 = \"\"\"\n",
    "아래 텍스트를 사용하여 질문에 답하세요. 제공된 텍스트로만 응답하세요.\n",
    "\n",
    "\n",
    "텍스트:\n",
    "색깔: 빛 없음\n",
    "의미: 라우터에 전원이 공급되지 않거나 앱의 표시등이 어두워졌습니다.\n",
    "해야 할 일:\n",
    "전원 케이블이 라우터와 작동하는 벽면 콘센트에 제대로 연결되어 있는지 확인하세요.\n",
    "기기가 이미 설정되어 있고 조명이 꺼진 것으로 나타나면 앱에서 조명 밝기 설정을 확인하세요.\n",
    "여전히 표시등이 켜지지 않으면 WiFi 고객 지원팀에 문의하세요.\n",
    "\n",
    "색상: 단색 흰색, 빛 없음, 단색 흰색\n",
    "의미: 장치가 부팅 중입니다.\n",
    "해야 할 일:\n",
    "장치가 부팅될 때까지 기다립니다. 이 작업은 약 1분 정도 소요됩니다. 완료되면 천천히 흰색으로 깜박이면서 설정 준비가 되었음을 알려줍니다.\n",
    "\n",
    "색상: 느리게 깜박이는 흰색\n",
    "의미: 기기를 설정할 준비가 되었습니다.\n",
    "해야 할 일:\n",
    "Google Home 앱을 사용하여 라우터를 설정하세요.\n",
    "\n",
    "색상: 단색 흰색\n",
    "의미: 라우터가 온라인 상태이고 모든 것이 정상입니다.\n",
    "해야 할 일:\n",
    "온라인 상태입니다. 즐기다!\n",
    "\n",
    "색상: 천천히 깜박이는 노란색\n",
    "의미: 네트워크 오류가 있습니다.\n",
    "해야 할 일:\n",
    "이더넷 케이블이 라우터와 모뎀에 모두 연결되어 있고 두 장치가 모두 켜져 있는지 확인하세요. 각 장치를 분리했다가 다시 연결해야 할 수도 있습니다.\n",
    "\n",
    "색상: 빠르게 깜박이는 노란색\n",
    "의미: 재설정 버튼을 누르고 있으며 이 장치를 공장 초기화하고 있습니다.\n",
    "해야 할 일:\n",
    "재설정 버튼을 계속 누르고 있으면 약 12초 후에 표시등이 노란색으로 켜집니다. 노란색이 계속 켜져 있으면 공장 초기화 버튼을 놓습니다.\n",
    "\n",
    "색상: 단색 노란색\n",
    "의미: 라우터가 공장 초기화 중입니다.\n",
    "해야 할 일:\n",
    "이 작업에는 최대 10분이 소요될 수 있습니다. 완료되면 장치가 자체적으로 재설정되고 흰색으로 깜박이기 시작하여 설정 준비가 되었음을 알려줍니다.\n",
    "이미지 빨간색으로 켜져 있음 빨간색으로 켜져 있음 문제가 발생했습니다. 중대한 실패. 라우터를 공장 초기화합니다. 표시등이 빨간색으로 계속 켜져 있으면 WiFi 고객 지원팀에 문의하세요.\n",
    "\n",
    "질문: 연결이 끊긴 WiFi를 해결하려면 어떻게 해야 합니까? Google WiFi 라우터의 표시등이 노란색이며 천천히 깜박입니다.\n",
    "답:\n",
    "\"\"\""
   ]
  },
  {
   "cell_type": "code",
   "execution_count": 27,
   "id": "bed6e254-e417-4c2b-a61d-366627dbb990",
   "metadata": {},
   "outputs": [
    {
     "name": "stdout",
     "output_type": "stream",
     "text": [
      "이더넷 케이블이 라우터와 모뎀에 모두 연결되어 있고 두 장치가 모두 켜져 있는지 확인하세요. 각 장치를 분리했다가 다시 연결해야 할 수도 있습니다.\n"
     ]
    }
   ],
   "source": [
    "response = generation_model.predict(prompt=prompt13, max_output_tokens=256, temperature=0.1).text\n",
    "print(response)"
   ]
  },
  {
   "cell_type": "code",
   "execution_count": 29,
   "id": "7cfbe04d-87b8-4495-9f4c-012209af3e39",
   "metadata": {},
   "outputs": [],
   "source": [
    "prompt14 = \"\"\"\n",
    "사용자 입력에서 기기의 스펙을 Json 포멧으로 뽑아주세요. \n",
    "\n",
    "사용자 입력: 구글 네스트 WiFi, 네트워크 속도 최대 1200Mbps, 2.4GHz 또는 5GHz 주파수, WP3 프로토콜\n",
    "Json: {\n",
    "    \"product\": \"구글 네스트 WiFi\",\n",
    "    \"speed\": \"1200Mbps\",\n",
    "    \"frequencies\": [\"2.4GHz\", \"5GHz\"],\n",
    "    \"protocol\": \"WP3\n",
    "}\n",
    "\n",
    "사용자 입력: Google Pixel 7, 5G network, 8GB RAM, Tensor G2 Pro\n",
    "\"\"\""
   ]
  },
  {
   "cell_type": "code",
   "execution_count": null,
   "id": "5b801e96-8a11-42fd-85e3-17f13294674c",
   "metadata": {},
   "outputs": [],
   "source": []
  }
 ],
 "metadata": {
  "kernelspec": {
   "display_name": "Python (Local)",
   "language": "python",
   "name": "local-base"
  },
  "language_info": {
   "codemirror_mode": {
    "name": "ipython",
    "version": 3
   },
   "file_extension": ".py",
   "mimetype": "text/x-python",
   "name": "python",
   "nbconvert_exporter": "python",
   "pygments_lexer": "ipython3",
   "version": "3.7.12"
  }
 },
 "nbformat": 4,
 "nbformat_minor": 5
}
